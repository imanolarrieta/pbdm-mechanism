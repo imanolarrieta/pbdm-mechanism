{
 "cells": [
  {
   "cell_type": "markdown",
   "metadata": {},
   "source": [
    "<h1>A Personalized BDM Mechanism for Efficient Market Intervention Experiments</h1>"
   ]
  },
  {
   "cell_type": "markdown",
   "metadata": {},
   "source": [
    "<h2>Imanol Arrieta Ibarra & Johan Ugander</h2>"
   ]
  },
  {
   "cell_type": "markdown",
   "metadata": {},
   "source": [
    "<h3>Experiment Analysis</h3>"
   ]
  },
  {
   "cell_type": "code",
   "execution_count": 1,
   "metadata": {},
   "outputs": [],
   "source": [
    "import numpy as np\n",
    "import pandas as pd\n",
    "import scipy.stats as stats\n",
    "\n",
    "import matplotlib\n",
    "from matplotlib import pyplot as plt\n",
    "from scipy.interpolate import BSpline\n",
    "matplotlib.rcParams['pdf.fonttype'] = 42\n",
    "matplotlib.rcParams['ps.fonttype'] = 42\n",
    "matplotlib.rcParams['ps.useafm'] = True\n",
    "matplotlib.rcParams['pdf.use14corefonts'] = True\n",
    "plt.rc('pdf',fonttype = 42)"
   ]
  },
  {
   "cell_type": "code",
   "execution_count": 2,
   "metadata": {},
   "outputs": [],
   "source": [
    "def ApplyFont(ax):\n",
    "\n",
    "    ticks = ax.get_xticklabels() + ax.get_yticklabels()\n",
    "\n",
    "    text_size = 14.0\n",
    "\n",
    "    for t in ticks:\n",
    "        t.set_fontname('Times New Roman')\n",
    "        t.set_fontsize(text_size)\n",
    "\n",
    "    txt = ax.get_xlabel()\n",
    "    txt_obj = ax.set_xlabel(txt)\n",
    "    txt_obj.set_fontname('Times New Roman')\n",
    "    txt_obj.set_fontsize(text_size)\n",
    "\n",
    "    txt = ax.get_ylabel()\n",
    "    txt_obj = ax.set_ylabel(txt)\n",
    "    txt_obj.set_fontname('Times New Roman')\n",
    "    txt_obj.set_fontsize(text_size)\n",
    "\n",
    "    txt = ax.get_title()\n",
    "    txt_obj = ax.set_title(txt)\n",
    "    txt_obj.set_fontname('Times New Roman')\n",
    "    txt_obj.set_fontsize(text_size)"
   ]
  },
  {
   "cell_type": "markdown",
   "metadata": {},
   "source": [
    "Load Data (Data has been previously been taken from logs and organized into a pandas dataframe so that it does not contain identifyable information. The BDM data is a subset of all the users who were assigned to this condition. In order to make BDM and PBDM comparable we took a random subset of the users assigned to BDM. The whole dataset is contained in data.tsv)"
   ]
  },
  {
   "cell_type": "code",
   "execution_count": 3,
   "metadata": {},
   "outputs": [],
   "source": [
    "df = pd.read_csv(\"data.csv\")\n",
    "np.random.seed(42)"
   ]
  },
  {
   "cell_type": "code",
   "execution_count": 4,
   "metadata": {},
   "outputs": [],
   "source": [
    "df_pbdm = df[df['offerType']==\"PBDM\"].reset_index(drop=True)\n",
    "df_bdm = df[df['offerType']==\"BDM\"].reset_index(drop=True)\n",
    "\n",
    "n_pbdm,_ = df_pbdm.shape\n",
    "df_bdm = df_bdm.loc[np.random.choice(range(112),size=n_pbdm,replace=False)].reset_index(drop=True)\n"
   ]
  },
  {
   "cell_type": "code",
   "execution_count": 5,
   "metadata": {},
   "outputs": [
    {
     "data": {
      "text/plain": [
       "<range_iterator at 0x10c009d20>"
      ]
     },
     "execution_count": 5,
     "metadata": {},
     "output_type": "execute_result"
    }
   ],
   "source": [
    "reversed(range(3))"
   ]
  },
  {
   "cell_type": "code",
   "execution_count": 6,
   "metadata": {},
   "outputs": [
    {
     "name": "stderr",
     "output_type": "stream",
     "text": [
      "/usr/local/lib/python3.6/site-packages/matplotlib/font_manager.py:1320: UserWarning: findfont: Font family ['Times New Roman'] not found. Falling back to Helvetica\n",
      "  (prop.get_family(), self.defaultFamily[fontext]))\n",
      "/usr/local/lib/python3.6/site-packages/matplotlib/font_manager.py:1330: UserWarning: findfont: Could not match :family=Helvetica:style=normal:variant=normal:weight=normal:stretch=normal:size=14.0. Returning /usr/local/lib/python2.7/site-packages/matplotlib/mpl-data/fonts/pdfcorefonts/Helvetica-Bold.afm\n",
      "  UserWarning)\n"
     ]
    },
    {
     "data": {
      "image/png": "[encoded data removed]",
      "text/plain": [
       "<matplotlib.figure.Figure at 0x10c202f98>"
      ]
     },
     "metadata": {},
     "output_type": "display_data"
    }
   ],
   "source": [
    "f = plt.figure()\n",
    "for j in range(5):\n",
    "    x_value = df_bdm['pbdmOffer'].loc[j]\n",
    "    ub = df_bdm['ub'].loc[j]\n",
    "    plt.errorbar(y=[j-5], x=x_value,fmt='s',capsize=5,xerr=[[x_value],[ub-x_value]],color=\"red\",linestyle=\"--\")\n",
    "\n",
    "for i in (range(n_pbdm)):\n",
    "    x_value = df_pbdm['pbdmOffer'].loc[i]\n",
    "    ub = min(df_pbdm['ub'].loc[i],200)\n",
    "    plt.errorbar(y=[i], x=x_value,fmt='s',capsize=5,xerr=[[x_value],[ub-x_value]],color=\"blue\")\n",
    "    plt.xlim([0,210])\n",
    "    plt.xlabel('PBDM mechanism',fontsize=16)\n",
    "    plt.ylabel('User',fontsize=16)\n",
    "    plt.title('Personalized mechanism',fontsize=16)\n",
    "\n",
    "plt.gca().invert_yaxis()\n",
    "ApplyFont(plt.gca())\n",
    "\n",
    "f.savefig(\"mechanism.pdf\", bbox_inches='tight')"
   ]
  },
  {
   "cell_type": "code",
   "execution_count": 7,
   "metadata": {},
   "outputs": [
    {
     "data": {
      "text/plain": [
       "0.31944444444444442"
      ]
     },
     "execution_count": 7,
     "metadata": {},
     "output_type": "execute_result"
    }
   ],
   "source": [
    "np.mean(df_bdm['treated'])"
   ]
  },
  {
   "cell_type": "markdown",
   "metadata": {},
   "source": [
    "<h4>Costs for the experiment</h4>"
   ]
  },
  {
   "cell_type": "code",
   "execution_count": 8,
   "metadata": {},
   "outputs": [
    {
     "name": "stdout",
     "output_type": "stream",
     "text": [
      " Cost BDM: 5469 \n",
      " Cost BDM per unit treated: 237.782608696\n",
      " Cost PBDM: 6146\n",
      " Cost PBDM per unit treated: 161.736842105/n\n"
     ]
    }
   ],
   "source": [
    "cost_bdm = sum(((df_bdm['nCorrect']-(20-df_pbdm['nCorrect']))*10-df_bdm['pbdmOffer']*(df_bdm['treated'])).apply(lambda x:max(0,x)))\n",
    "cost_bdm_total = np.sum(cost_bdm)\n",
    "cost_bdm_pc = np.sum(cost_bdm)/np.sum(df_bdm['treated'])\n",
    "\n",
    "\n",
    "cost_pbdm = sum(((df_pbdm['nCorrect']-(20-df_pbdm['nCorrect']))*10-df_pbdm['pbdmOffer']*(df_pbdm['treated'])).apply(lambda x:max(0,x)))\n",
    "cost_pbdm_total = np.sum(cost_pbdm)\n",
    "cost_pbdm_pc = np.sum(cost_pbdm)/np.sum(df_pbdm['treated'])\n",
    "\n",
    "print(\" Cost BDM: %s \\n Cost BDM per unit treated: %s\\n Cost PBDM: %s\\n Cost PBDM per unit treated: %s/n\" %\n",
    "     (cost_bdm_total,cost_bdm_pc,cost_pbdm_total,cost_pbdm_pc))\n"
   ]
  },
  {
   "cell_type": "markdown",
   "metadata": {},
   "source": [
    "<h4>Number of Users</h4>"
   ]
  },
  {
   "cell_type": "code",
   "execution_count": 9,
   "metadata": {},
   "outputs": [
    {
     "name": "stdout",
     "output_type": "stream",
     "text": [
      "Number of BDM participants: 72\n",
      "Number of PBDM participants: 72\n"
     ]
    }
   ],
   "source": [
    "print(\"Number of BDM participants: %s\" %df_bdm.shape[0])\n",
    "print(\"Number of PBDM participants: %s\" %df_pbdm.shape[0])"
   ]
  },
  {
   "cell_type": "markdown",
   "metadata": {},
   "source": [
    "<h4>Budget Regret</h4>"
   ]
  },
  {
   "cell_type": "code",
   "execution_count": 10,
   "metadata": {},
   "outputs": [
    {
     "name": "stdout",
     "output_type": "stream",
     "text": [
      " Budget Regret BDM: 65.0\n",
      " Budget Regret PBDM: 46.81578947368421\n",
      "\n"
     ]
    }
   ],
   "source": [
    "regret_bdm = sum((df_bdm['pbdmBid'] - df_bdm['pbdmOffer']) * df_bdm['treated']) / sum(df_bdm['treated'])\n",
    "regret_pbdm = sum((df_pbdm['pbdmBid'] - df_pbdm['pbdmOffer']) * df_pbdm['treated']) / sum(df_pbdm['treated'])\n",
    "print(\" Budget Regret BDM: %s\\n Budget Regret PBDM: %s\\n\"%(regret_bdm,regret_pbdm))"
   ]
  },
  {
   "cell_type": "markdown",
   "metadata": {},
   "source": [
    "<h4>Mechanism</h4>"
   ]
  },
  {
   "cell_type": "code",
   "execution_count": 11,
   "metadata": {},
   "outputs": [
    {
     "name": "stdout",
     "output_type": "stream",
     "text": [
      "13 16 48 67 2.0 7.0 16.15\n",
      "13 23 48 60 2.0 7.0 15.0\n",
      "25 33 36 50 2.0 5.0 14.0\n",
      "30 40 31 43 2.0 5.0 14.525\n",
      "45 59 13 22 2.0 7.0 15.45\n",
      "54 73 4 8 2.0 5.0 10.9\n",
      "92\n",
      "0.638888888889\n",
      "43\n",
      "49\n",
      "18\n",
      "34\n",
      "-154.075\n",
      "6.0\n",
      "137.875\n"
     ]
    },
    {
     "name": "stderr",
     "output_type": "stream",
     "text": [
      "/usr/local/lib/python3.6/site-packages/ipykernel_launcher.py:49: UserWarning: Boolean Series key will be reindexed to match DataFrame index.\n",
      "/usr/local/lib/python3.6/site-packages/ipykernel_launcher.py:50: UserWarning: Boolean Series key will be reindexed to match DataFrame index.\n"
     ]
    },
    {
     "data": {
      "image/png": "[encoded data removed]",
      "text/plain": [
       "<matplotlib.figure.Figure at 0x10cddc080>"
      ]
     },
     "metadata": {},
     "output_type": "display_data"
    },
    {
     "data": {
      "image/png": "[encoded data removed]",
      "text/plain": [
       "<matplotlib.figure.Figure at 0x10ce6d6a0>"
      ]
     },
     "metadata": {},
     "output_type": "display_data"
    }
   ],
   "source": [
    "df = df_bdm.append(df_pbdm).reset_index(drop=True)\n",
    "\n",
    "\n",
    "def understanding(df):\n",
    "    perc = []\n",
    "    quant = []\n",
    "    for i in range(1,7):\n",
    "        df['irrational_'+str(i)] = df['tutorial_game_credits_'+str(i)]-df['tutorial_max_credits_'+str(i)]\n",
    "        boot_ls = []\n",
    "        for j in range(1000):\n",
    "            boot_ls.append(np.mean((df['irrational_'+str(i)]<2)[np.random.choice(range(len(df['irrational_'+str(i)])),\n",
    "                                                                                 size=142)]))\n",
    "        perc.append(np.percentile(boot_ls,50))\n",
    "        quant.append((np.percentile(boot_ls,2.5),np.percentile(boot_ls,97.5)))\n",
    "        print(np.sum(df[(df['irrational_'+str(i)]<2)]['treated']))\n",
    "        \n",
    "        \n",
    "    return perc,quant\n",
    "\n",
    "def understanding_2(df):\n",
    "    for i in range(1,7):\n",
    "        df['irrational_'+str(i)] = df['tutorial_game_credits_'+str(i)]-df['tutorial_max_credits_'+str(i)]\n",
    "        print(np.sum(df[(df['irrational_'+str(i)]<2)]['treated']),np.sum(1-df[(df['irrational_'+str(i)]<2)]['treated']),\n",
    "             np.sum(df[(df['irrational_'+str(i)]>=2)]['treated']),np.sum(1-df[(df['irrational_'+str(i)]>=2)]['treated']),\n",
    "             np.percentile(df[(df['irrational_'+str(i)]>=2)]['irrational_'+str(i)],q=2.5),\n",
    "             np.percentile(df[(df['irrational_'+str(i)]>=2)]['irrational_'+str(i)],q=50),\n",
    "             np.percentile(df[(df['irrational_'+str(i)]>=2)]['irrational_'+str(i)],q=97.5))\n",
    "        \n",
    "understanding_2(df)\n",
    "def rational_check(df):\n",
    "    df['diff_wtp'] = df['pbdmRegret']-df['pbdmBid']\n",
    "    rational = (df['diff_wtp']==0)\n",
    "    irrational = (df['diff_wtp']!=0) \n",
    "    n_rational = np.sum(rational)\n",
    "    n_irrational = np.sum(irrational)\n",
    "    print(n_rational)\n",
    "    print(n_rational/float(n_rational+n_irrational))\n",
    "    df_rational = df[rational].reset_index(drop=True)\n",
    "    print(np.sum(df_rational['treated']))\n",
    "    print(np.sum(1-df_rational['treated']))\n",
    "    df_irrational = df[irrational].reset_index(drop=True)\n",
    "    print(np.sum(df_irrational['treated']))\n",
    "    print(np.sum(1-df_irrational['treated']))\n",
    "    print(np.percentile(df_irrational['diff_wtp'],2.5))\n",
    "    print(np.percentile(df_irrational['diff_wtp'],50))\n",
    "    print(np.percentile(df_irrational['diff_wtp'],97.5))\n",
    "\n",
    "    \n",
    "    df_irrational_treated = df_irrational[df['treated']==1].reset_index(drop=True)\n",
    "    df_irrational_control = df_irrational[df['treated']==0].reset_index(drop=True)\n",
    "    plt.figure()\n",
    "    plt.hist(df_irrational['diff_wtp'],label=\"rational users\")\n",
    "    plt.figure()\n",
    "    plt.hist(df_irrational_control['diff_wtp'],label=\"treated\")\n",
    "    plt.hist(df_irrational_treated['diff_wtp'],label=\"control\")\n",
    "    plt.legend()\n",
    "\n",
    "rational_check(df)\n",
    "\n",
    "\n",
    "\n"
   ]
  },
  {
   "cell_type": "code",
   "execution_count": 12,
   "metadata": {},
   "outputs": [
    {
     "name": "stdout",
     "output_type": "stream",
     "text": [
      "13\n",
      "13\n",
      "25\n",
      "30\n",
      "45\n",
      "54\n"
     ]
    }
   ],
   "source": [
    "perc,quant = understanding(df)"
   ]
  },
  {
   "cell_type": "code",
   "execution_count": 13,
   "metadata": {},
   "outputs": [
    {
     "name": "stdout",
     "output_type": "stream",
     "text": [
      "[0.20070422535211269, 0.24647887323943662, 0.40140845070422537, 0.4859154929577465, 0.71830985915492962, 0.88028169014084512]\n",
      "[(0.13380281690140844, 0.26760563380281688), (0.18309859154929578, 0.323943661971831), (0.31690140845070425, 0.4859154929577465), (0.40845070422535212, 0.56338028169014087), (0.64084507042253525, 0.78873239436619713), (0.823943661971831, 0.92957746478873238)]\n"
     ]
    },
    {
     "name": "stderr",
     "output_type": "stream",
     "text": [
      "/usr/local/lib/python3.6/site-packages/matplotlib/font_manager.py:1320: UserWarning: findfont: Font family ['sans-serif'] not found. Falling back to Helvetica\n",
      "  (prop.get_family(), self.defaultFamily[fontext]))\n",
      "/usr/local/lib/python3.6/site-packages/matplotlib/font_manager.py:1330: UserWarning: findfont: Could not match :family=Helvetica:style=normal:variant=normal:weight=normal:stretch=normal:size=10.0. Returning /usr/local/lib/python2.7/site-packages/matplotlib/mpl-data/fonts/pdfcorefonts/Helvetica-Bold.afm\n",
      "  UserWarning)\n",
      "/usr/local/lib/python3.6/site-packages/matplotlib/font_manager.py:1330: UserWarning: findfont: Could not match :family=Helvetica:style=normal:variant=normal:weight=normal:stretch=normal:size=16.0. Returning /usr/local/lib/python2.7/site-packages/matplotlib/mpl-data/fonts/pdfcorefonts/Helvetica-Bold.afm\n",
      "  UserWarning)\n"
     ]
    },
    {
     "data": {
      "image/png": "[encoded data removed]",
      "text/plain": [
       "<matplotlib.figure.Figure at 0x10cddc7b8>"
      ]
     },
     "metadata": {},
     "output_type": "display_data"
    }
   ],
   "source": [
    "f = plt.figure()\n",
    "plt.scatter(['1','2','3','4','5','6'],perc)\n",
    "plt.plot(['1','2','3','4','5','6'],perc)\n",
    "plt.errorbar(x=['1','2','3','4','5','6'], y=perc,fmt='s',capsize=5,yerr=[[-quant[i][0] + perc[i] for i in range(6)],\n",
    "                                                                          [quant[i][1] - perc[i] for i in range(6)]])\n",
    "plt.ylim((0,1))\n",
    "plt.xlabel(\"Tutorial stage\",fontsize=16)\n",
    "plt.ylabel(\"% revenue maximizers\",fontsize=16)\n",
    "print(perc)\n",
    "print(quant)\n",
    "f.savefig(\"understanding.pdf\", bbox_inches='tight')"
   ]
  },
  {
   "cell_type": "code",
   "execution_count": 14,
   "metadata": {},
   "outputs": [
    {
     "data": {
      "text/plain": [
       "0      0.255000\n",
       "1      0.025000\n",
       "2      0.305000\n",
       "3      0.305000\n",
       "4      0.255000\n",
       "5      0.505000\n",
       "6      0.035000\n",
       "7      0.025000\n",
       "8      0.205000\n",
       "9      0.005000\n",
       "10     0.380000\n",
       "11     0.955000\n",
       "12     0.105000\n",
       "13     0.005000\n",
       "14     0.270000\n",
       "15     0.505000\n",
       "16     0.999000\n",
       "17     0.030000\n",
       "18     0.610000\n",
       "19     0.999000\n",
       "20     0.005000\n",
       "21     0.305000\n",
       "22     0.030000\n",
       "23     0.805000\n",
       "24     0.999000\n",
       "25     0.505000\n",
       "26     0.025000\n",
       "27     0.155000\n",
       "28     0.180000\n",
       "29     0.205000\n",
       "         ...   \n",
       "114    0.172423\n",
       "115    0.528744\n",
       "116    0.278974\n",
       "117    0.415168\n",
       "118    0.320902\n",
       "119    0.209142\n",
       "120    0.975000\n",
       "121    0.286980\n",
       "122    0.627405\n",
       "123    0.359060\n",
       "124    0.247998\n",
       "125    0.895362\n",
       "126    0.286060\n",
       "127    0.604912\n",
       "128    0.399139\n",
       "129    0.163722\n",
       "130    0.175893\n",
       "131    0.687518\n",
       "132    0.679761\n",
       "133    0.155893\n",
       "134    0.292667\n",
       "135    0.867832\n",
       "136    0.391058\n",
       "137    0.236359\n",
       "138    0.975000\n",
       "139    0.160784\n",
       "140    0.256495\n",
       "141    0.370722\n",
       "142    0.975000\n",
       "143    0.262792\n",
       "Name: prop, Length: 144, dtype: float64"
      ]
     },
     "execution_count": 14,
     "metadata": {},
     "output_type": "execute_result"
    }
   ],
   "source": [
    "df['prop']"
   ]
  },
  {
   "cell_type": "markdown",
   "metadata": {},
   "source": [
    "<h4>Calibration Plot for Propensity Score</h4>"
   ]
  },
  {
   "cell_type": "code",
   "execution_count": 15,
   "metadata": {},
   "outputs": [
    {
     "name": "stderr",
     "output_type": "stream",
     "text": [
      "/usr/local/lib/python3.6/site-packages/matplotlib/font_manager.py:1320: UserWarning: findfont: Font family ['sans-serif'] not found. Falling back to Helvetica\n",
      "  (prop.get_family(), self.defaultFamily[fontext]))\n",
      "/usr/local/lib/python3.6/site-packages/matplotlib/font_manager.py:1330: UserWarning: findfont: Could not match :family=Helvetica:style=normal:variant=normal:weight=normal:stretch=normal:size=12.0. Returning /usr/local/lib/python2.7/site-packages/matplotlib/mpl-data/fonts/pdfcorefonts/Helvetica-Bold.afm\n",
      "  UserWarning)\n",
      "/usr/local/lib/python3.6/site-packages/matplotlib/font_manager.py:1330: UserWarning: findfont: Could not match :family=Helvetica:style=normal:variant=normal:weight=normal:stretch=normal:size=16.0. Returning /usr/local/lib/python2.7/site-packages/matplotlib/mpl-data/fonts/pdfcorefonts/Helvetica-Bold.afm\n",
      "  UserWarning)\n",
      "/usr/local/lib/python3.6/site-packages/matplotlib/font_manager.py:1330: UserWarning: findfont: Could not match :family=Helvetica:style=normal:variant=normal:weight=normal:stretch=normal:size=10.0. Returning /usr/local/lib/python2.7/site-packages/matplotlib/mpl-data/fonts/pdfcorefonts/Helvetica-Bold.afm\n",
      "  UserWarning)\n"
     ]
    },
    {
     "data": {
      "image/png": "[encoded data removed]",
      "text/plain": [
       "<matplotlib.figure.Figure at 0x10c2029b0>"
      ]
     },
     "metadata": {},
     "output_type": "display_data"
    }
   ],
   "source": [
    "df_pbdm['calibration_bin'] = (df_pbdm['prop']*5).astype(int)/5.0\n",
    "df_bdm['calibration_bin'] = (df_bdm['prop']*5).astype(int)/5.0\n",
    "df_pbdm['treated_int'] = df_pbdm['treated'].astype(int)\n",
    "df_bdm['treated_int'] = df_bdm['treated'].astype(int)\n",
    "calibration_pbdm = df_pbdm.groupby(['calibration_bin']).mean()['prop']\n",
    "calibration_bdm = df_bdm.groupby(['calibration_bin']).mean()['prop']\n",
    "\n",
    "fig, ax = plt.subplots()\n",
    "ax.plot(df_pbdm['pbdmBid'],df_pbdm['prop'],'bo',label=\"PBDM\")\n",
    "ax.plot(df_bdm['pbdmBid'],df_bdm['prop'],'ro',label=\"BDM\")\n",
    "plt.xlabel(\"Willingness to pay\", fontsize=16)\n",
    "plt.ylabel(\"Probability of treatment\", fontsize=16)\n",
    "plt.legend()\n",
    "ax.fill_between(np.arange(100), np.arange(0,0.5,0.5/100), np.arange(1,0.5,-0.5/100),facecolor='green',alpha=0.5)\n",
    "ax.fill_between(np.arange(100,200), np.arange(0.5,0,-0.5/100), np.arange(0.5,1,0.5/100),facecolor='green',alpha=0.5)\n",
    "ax.tick_params(axis='x', which='major', labelsize=12)\n",
    "ax.tick_params(axis='y', which='major', labelsize=12)\n",
    "plt.title(\"Probability smoothing\", fontsize=16)\n",
    "fig.savefig(\"pbdm_improv_eps.pdf\", bbox_inches='tight')"
   ]
  },
  {
   "cell_type": "markdown",
   "metadata": {},
   "source": [
    "<h4>Block ATE </h4>"
   ]
  },
  {
   "cell_type": "code",
   "execution_count": 16,
   "metadata": {},
   "outputs": [
    {
     "name": "stdout",
     "output_type": "stream",
     "text": [
      "PBDM\n",
      "Block: 3.80805813007\n",
      "sd: 0.967246019276\n",
      "BDM\n",
      "Block: 5.19047619048\n",
      "sd: 0.828242163455\n"
     ]
    },
    {
     "name": "stderr",
     "output_type": "stream",
     "text": [
      "/usr/local/lib/python3.6/site-packages/ipykernel_launcher.py:5: RuntimeWarning: invalid value encountered in true_divide\n",
      "  \"\"\"\n",
      "/usr/local/lib/python3.6/site-packages/ipykernel_launcher.py:12: RuntimeWarning: invalid value encountered in true_divide\n",
      "  if sys.path[0] == '':\n"
     ]
    }
   ],
   "source": [
    "# Strat ATE\n",
    "\n",
    "def miniATE(x):\n",
    "    treatment = np.sum(np.array(x['nCorrect'])*np.array(x['treated']))/float(np.sum(np.array(x['treated'])))\n",
    "    control  = np.sum(np.array(x['nCorrect'])*(1-np.array(x['treated'])))/float(np.sum((1-np.array(x['treated']))))\n",
    "    ate = treatment-control\n",
    "    return ate\n",
    "\n",
    "def stratSd(x):\n",
    "    n_c = float(np.sum((1-np.array(x['treated']))))\n",
    "    n_t = float(np.sum(np.array(x['treated'])))\n",
    "    mu_c = np.sum(np.array(x['nCorrect'])*(1-np.array(x['treated'])))/n_c\n",
    "    mu_t =  np.sum(np.array(x['nCorrect'])*np.array(x['treated']))/n_t\n",
    "    dif_squared_c = np.sum(((np.array(x['nCorrect'])-mu_c)**2)*(1-np.array(x['treated'])))/(n_c**2)\n",
    "    dif_squared_t = np.sum(((np.array(x['nCorrect'])-mu_t)**2)*(np.array(x['treated'])))/(n_t**2)\n",
    "    return np.sqrt(dif_squared_c+dif_squared_t)\n",
    "\n",
    "def block_ate(df,name):\n",
    "    dfn = df.copy()\n",
    "    #dfn['perc'] = pd.qcut(df['prop'],5,labels=False)\n",
    "    strat_ate = dfn.groupby(['calibration_bin']).apply(lambda x: miniATE(x))\n",
    "    strat_weight =  dfn.groupby(['calibration_bin']).count()['treated_int']\n",
    "    not_nan = strat_ate.apply(lambda x: x>0)\n",
    "    strat_weight = strat_weight[not_nan]/sum(strat_weight[not_nan])\n",
    "    strat_ate = dfn.groupby(['calibration_bin']).apply(lambda x: miniATE(x))[not_nan]\n",
    "    strat_var = dfn.groupby(['calibration_bin']).apply(lambda x: stratSd(x))[not_nan]\n",
    "    sd  = np.sqrt(np.dot(np.array(strat_var),np.array(strat_weight)))\n",
    "    ate = np.dot(np.array(strat_ate),np.array(strat_weight))\n",
    "    print(name)\n",
    "    print(\"Block: \"+str(ate))\n",
    "    print(\"sd: \"+str(sd))\n",
    "    return(ate,sd)\n",
    "\n",
    "block_pbdm,sd_block_pbdm = block_ate(df_pbdm,'PBDM')\n",
    "block_bdm,sd_block_bdm = block_ate(df_bdm,'BDM')\n"
   ]
  },
  {
   "cell_type": "markdown",
   "metadata": {},
   "source": [
    "<h4> H-T estimator </h4>"
   ]
  },
  {
   "cell_type": "code",
   "execution_count": 17,
   "metadata": {},
   "outputs": [
    {
     "name": "stdout",
     "output_type": "stream",
     "text": [
      "PBDM\n",
      "H-T: 12.0935495676\n",
      "Var: 26.0137910715\n",
      "sd: 5.10037166014\n",
      "BDM\n",
      "H-T: -0.631437782855\n",
      "Var: 365.444710292\n",
      "sd: 19.1166082319\n"
     ]
    }
   ],
   "source": [
    "####### H-T estimator\n",
    "\n",
    "def print_ht_ate_var(df,name,type):\n",
    "    outcome = \"nCorrect\"\n",
    "    df = df.copy()\n",
    "    N = df.shape[0]\n",
    "    ind_effect = df.apply(lambda x: x['treated']*x[outcome]/(x['prop']) -(not x['treated'])*x[outcome]/(1-x['prop']),axis=1)\n",
    "    # The following definition comes from Aronow and samii\n",
    "    muH_T_num = df.apply(lambda x: x['treated']*x[outcome]/(x['prop']),axis=1)\n",
    "    muH_T_den = df.apply(lambda x: x['treated'],axis=1)\n",
    "    muH_T = np.sum(muH_T_num)/np.sum(N)\n",
    "    muH_C_num = df.apply(lambda x: (not x['treated'])*x[outcome]/(1-x['prop']),axis=1)\n",
    "    muH_C_den = df.apply(lambda x: (not x['treated']),axis=1)\n",
    "    muH_C = np.sum(muH_C_num)/np.sum(N)\n",
    "    var_T = df.apply(lambda x: x[type]*(1-x['prop'])*(x[outcome]/x['prop'])**2,axis=1)\n",
    "    var_C = df.apply(lambda x: (1- x[type])*(x['prop'])*(x[outcome]/(1-x['prop']))**2,axis=1)\n",
    "    cov =  -df.apply(lambda x: (x[type]*x[outcome]**2)/(2*x['prop'])+((1-x[type])*x[outcome]**2)/(2*(1-x['prop'])),axis=1)\n",
    "    var = (1./N**2)*(np.sum(var_T)+np.sum(var_C)-2*np.sum(cov))\n",
    "    print(name)\n",
    "    print(\"H-T: \" + str(muH_T-muH_C))\n",
    "    print(\"Var: \"+str(var))\n",
    "    print(\"sd: \"+str(np.sqrt(var)))\n",
    "    return (muH_T-muH_C, np.sqrt(var))\n",
    "\n",
    "def ht_ate_var(df,name):\n",
    "    return print_ht_ate_var(df,name,'treated')\n",
    "\n",
    "def ht_ate_var_null(df,name):\n",
    "    return print_ht_ate_var(df,name,'prop')\n",
    "\n",
    "\n",
    "ht_pbdm,sd_ht_pbdm=ht_ate_var_null(df_pbdm,\"PBDM\")\n",
    "ht_bdm,sd_ht_bdm=ht_ate_var_null(df_bdm,\"BDM\")"
   ]
  },
  {
   "cell_type": "markdown",
   "metadata": {},
   "source": [
    "<h4> Hajek estimator </h4>"
   ]
  },
  {
   "cell_type": "code",
   "execution_count": 18,
   "metadata": {},
   "outputs": [
    {
     "name": "stdout",
     "output_type": "stream",
     "text": [
      "0.752990752027 3.46614276923\n"
     ]
    }
   ],
   "source": [
    "\n",
    "def print_hajek_ate_var(df,name,type):\n",
    "    outcome = \"nCorrect\"\n",
    "    df = df.copy()\n",
    "    N = df.shape[0]\n",
    "    ind_effect = df.apply(lambda x: x['treated']*x[outcome]/(x['prop']) -(not x['treated'])*x[outcome]/(1-x['prop']),axis=1)\n",
    "    ind_denominator = df.apply(lambda x: x['treated']*1/(x['prop']) +(not x['treated'])*1/(1-x['prop']),axis=1)\n",
    "    # The following definition comes from Aronow and samii\n",
    "    muH_T_num = df.apply(lambda x: x['treated']*x[outcome]/(x['prop']),axis=1)\n",
    "    muH_T_den = df.apply(lambda x: x['treated']/(x['prop']),axis=1)\n",
    "    muH_T = np.sum(muH_T_num)/np.sum(muH_T_den)\n",
    "    muH_C_num = df.apply(lambda x: (not x['treated'])*x[outcome]/(1-x['prop']),axis=1)\n",
    "    muH_C_den = df.apply(lambda x: (not x['treated'])/(1-x['prop']),axis=1)\n",
    "    muH_C = np.sum(muH_C_num)/np.sum(muH_C_den)\n",
    "    df['residual'] = df[outcome] - muH_T*df['treated']-muH_C*(1-df['treated'])\n",
    "    var_T = df.apply(lambda x: x[type]*(1-x['prop'])*(x['residual']/x['prop'])**2,axis=1)\n",
    "    var_C = df.apply(lambda x: (1- x[type])*(x['prop'])*(x['residual']/(1-x['prop']))**2,axis=1)\n",
    "    cov =  -df.apply(lambda x: (x[type]*x['residual']**2)/(2*x['prop'])+((1-x[type])*x['residual']**2)/(2*(1-x['prop'])),axis=1)\n",
    "    var = (1./N**2)*(np.sum(var_T)+np.sum(var_C)-2*np.sum(cov))\n",
    "    #print(name)\n",
    "    #print(\"Hajek: \" + str(muH_T-muH_C))\n",
    "    #print(\"Var: \"+str(var))\n",
    "    #print(\"sd: \"+str(np.sqrt(var)))\n",
    "    return (muH_T-muH_C ,np.sqrt(var))\n",
    "\n",
    "def hajek_ate_var(df,name):\n",
    "    return print_hajek_ate_var(df,name,'treated')\n",
    "\n",
    "def hajek_ate_var_null(df,name):\n",
    "    return print_hajek_ate_var(df,name,'prop')\n",
    "\n",
    "hajek_pbdm,sd_hajek_pbdm=hajek_ate_var_null(df_pbdm,\"PBDM\")\n",
    "hajek_bdm,sd_hajek_bdm=hajek_ate_var_null(df_bdm,\"BDM\")\n",
    "print(sd_hajek_pbdm,sd_hajek_bdm)"
   ]
  },
  {
   "cell_type": "markdown",
   "metadata": {},
   "source": [
    "<h4> Hajek Quotient under null </h4>"
   ]
  },
  {
   "cell_type": "code",
   "execution_count": 19,
   "metadata": {},
   "outputs": [
    {
     "data": {
      "text/plain": [
       "0.75299075202725552"
      ]
     },
     "execution_count": 19,
     "metadata": {},
     "output_type": "execute_result"
    }
   ],
   "source": [
    "\n",
    "def hajek_quotient_null_ate_var(df,name):\n",
    "    outcome = \"nCorrect\"\n",
    "    df = df.copy()\n",
    "    N = df.shape[0]\n",
    "    df['bdm_prop'] = ((df['pbdmBid']+1)/200).apply(lambda x: min(x,0.99))\n",
    "    # The following definition comes from Aronow and samii\n",
    "    muH_T_num = df.apply(lambda x: x['treated']*x[outcome]/(x['prop']),axis=1)\n",
    "    muH_T_den = df.apply(lambda x: x['treated']/(x['prop']),axis=1)\n",
    "    muH_T = np.sum(muH_T_num)/np.sum(muH_T_den)\n",
    "    muH_C_num = df.apply(lambda x: (not x['treated'])*x[outcome]/(1-x['prop']),axis=1)\n",
    "    muH_C_den = df.apply(lambda x: (not x['treated'])/(1-x['prop']),axis=1)\n",
    "    muH_C = np.sum(muH_C_num)/np.sum(muH_C_den)\n",
    "    df['residual_treated'] = df[outcome] - muH_T*df['treated']\n",
    "    df['residual_control'] = df[outcome] -muH_C*(1-df['treated'])\n",
    "    var_T = df.apply(lambda x: x['prop']*(1-x['prop'])*(x['residual_treated']/x['prop'])**2,axis=1)\n",
    "    var_C = df.apply(lambda x: (1- x['prop'])*(x['prop'])*(x['residual_control']/(1-x['prop']))**2,axis=1)\n",
    "    var = (1./N**2)*(np.sum(var_T)+np.sum(var_C)+2*np.sum(df['residual_control']**2))\n",
    "\n",
    "    var_T_bdm = df.apply(lambda x: x['bdm_prop']*(1-x['bdm_prop'])*(x['residual_treated']/x['bdm_prop'])**2,axis=1)\n",
    "    var_C_bdm = df.apply(lambda x: (1- x['bdm_prop'])*(x['bdm_prop'])*(x['residual_control']/(1-x['bdm_prop']))**2,axis=1)\n",
    "    var_bdm = (1./N**2)*(np.sum(var_T_bdm )+np.sum(var_C_bdm )+2*np.sum(df['residual_control']**2))\n",
    "\n",
    "    return (muH_T-muH_C ,np.sqrt(var)/np.sqrt(var_bdm))\n",
    "hajek_quotient_pbdm,sd_hajek_quotient_pbdm=hajek_quotient_null_ate_var(df_pbdm,\"PBDM\")\n",
    "\n",
    "sd_hajek_pbdm"
   ]
  },
  {
   "cell_type": "markdown",
   "metadata": {},
   "source": [
    "<h4> Plot and compare estimators with confidence intervals </h4>"
   ]
  },
  {
   "cell_type": "code",
   "execution_count": 20,
   "metadata": {},
   "outputs": [
    {
     "name": "stderr",
     "output_type": "stream",
     "text": [
      "/usr/local/lib/python3.6/site-packages/matplotlib/font_manager.py:1320: UserWarning: findfont: Font family ['sans-serif'] not found. Falling back to Helvetica\n",
      "  (prop.get_family(), self.defaultFamily[fontext]))\n",
      "/usr/local/lib/python3.6/site-packages/matplotlib/font_manager.py:1330: UserWarning: findfont: Could not match :family=Helvetica:style=normal:variant=normal:weight=normal:stretch=normal:size=10.0. Returning /usr/local/lib/python2.7/site-packages/matplotlib/mpl-data/fonts/pdfcorefonts/Helvetica-Bold.afm\n",
      "  UserWarning)\n",
      "/usr/local/lib/python3.6/site-packages/matplotlib/font_manager.py:1330: UserWarning: findfont: Could not match :family=Helvetica:style=normal:variant=normal:weight=normal:stretch=normal:size=16.0. Returning /usr/local/lib/python2.7/site-packages/matplotlib/mpl-data/fonts/pdfcorefonts/Helvetica-Bold.afm\n",
      "  UserWarning)\n",
      "/usr/local/lib/python3.6/site-packages/matplotlib/font_manager.py:1330: UserWarning: findfont: Could not match :family=Helvetica:style=normal:variant=normal:weight=normal:stretch=normal:size=12.0. Returning /usr/local/lib/python2.7/site-packages/matplotlib/mpl-data/fonts/pdfcorefonts/Helvetica-Bold.afm\n",
      "  UserWarning)\n"
     ]
    },
    {
     "data": {
      "image/png": "[encoded data removed]",
      "text/plain": [
       "<matplotlib.figure.Figure at 0x10d895fd0>"
      ]
     },
     "metadata": {},
     "output_type": "display_data"
    }
   ],
   "source": [
    "f=plt.figure()\n",
    "z_critical = stats.norm.ppf(q = 0.975)\n",
    "y_values_bdm = [1,3,5]\n",
    "y_values_pbdm=[2,4,6]\n",
    "y_values=[1,2,3,4,5,6]\n",
    "tick_names = ['Block\\nBDM','Block\\nPBDM','Hajek\\nBDM','Hajek\\nPBDM','HT\\nBDM','HT\\nPBDM']\n",
    "x_values_bdm = [block_bdm,hajek_bdm,ht_bdm]\n",
    "x_values_pbdm = [block_pbdm,hajek_pbdm,ht_pbdm]\n",
    "sd_bdm = [sd_block_bdm,sd_hajek_bdm,sd_ht_bdm]\n",
    "sd_pbdm = [sd_block_pbdm,sd_hajek_pbdm,sd_ht_pbdm]\n",
    "confidence_bdm = [(x_values_bdm[i]-z_critical*sd_bdm[i],x_values_bdm[i]+z_critical*sd_bdm[i]) for i in range(len(sd_bdm))]\n",
    "confidence_pbdm = [(x_values_pbdm[i]-z_critical*sd_pbdm[i],x_values_pbdm[i]+z_critical*sd_pbdm[i]) for i in range(len(sd_pbdm))]\n",
    "\n",
    "plt.scatter(x_values_bdm,y_values_bdm,color=\"red\")\n",
    "plt.scatter(x_values_pbdm,y_values_pbdm,color=\"blue\")\n",
    "plt.yticks(y_values, tick_names)\n",
    "(_, caps, _) =plt.errorbar(x=x_values_bdm,\n",
    "             y=y_values_bdm,\n",
    "             xerr=[(top-bot)/2 for top,bot in confidence_bdm],\n",
    "             fmt='s',capsize=5,color=\"red\")\n",
    "\n",
    "for cap in caps:\n",
    "    cap.set_color('red')\n",
    "    cap.set_markeredgewidth(1)\n",
    "    \n",
    "(_, caps, _) =plt.errorbar(x=x_values_pbdm,\n",
    "             y=y_values_pbdm,\n",
    "             xerr=[(top-bot)/2 for top,bot in confidence_pbdm],\n",
    "             fmt='s',capsize=5,color=\"blue\")\n",
    "\n",
    "for cap in caps:\n",
    "    cap.set_color('blue')\n",
    "    cap.set_markeredgewidth(1)\n",
    "plt.axvline(x=0,linestyle=\"--\",color=\"black\")\n",
    "plt.xlabel('ATE(Difference in correct answers)', fontsize=16)\n",
    "plt.title('Number of Correct Answers ATE', fontsize=16)\n",
    "ax.tick_params(axis='x', which='major', labelsize=12)\n",
    "ax.tick_params(axis='y', which='major', labelsize=12)\n",
    "plt.title(\"ATE estimates\")\n",
    "f.savefig(\"confidence_intervals.pdf\", bbox_inches='tight')"
   ]
  },
  {
   "cell_type": "code",
   "execution_count": 21,
   "metadata": {},
   "outputs": [
    {
     "name": "stdout",
     "output_type": "stream",
     "text": [
      "[5.1904761904761898, 2.2370694355867311, -0.63143778285539831]\n",
      "[3.8080581300676997, 4.2618625164321102, 12.093549567597641]\n",
      "[(3.5671513796267864, 6.8138010013255936), (-4.556445557369746, 9.0305844285432073), (-38.099301423942805, 36.836425858232005)]\n",
      "[(1.9122907680972032, 5.7038254920381961), (2.7860277617669587, 5.7376972710972618), (2.0970048059628166, 22.090094329232464)]\n"
     ]
    }
   ],
   "source": [
    "print(x_values_bdm)\n",
    "print(x_values_pbdm)\n",
    "print(confidence_bdm)\n",
    "print(confidence_pbdm)"
   ]
  },
  {
   "cell_type": "markdown",
   "metadata": {},
   "source": [
    "<h4>Evolution of estimator</h4>"
   ]
  },
  {
   "cell_type": "code",
   "execution_count": 22,
   "metadata": {},
   "outputs": [
    {
     "name": "stderr",
     "output_type": "stream",
     "text": [
      "/usr/local/lib/python3.6/site-packages/matplotlib/font_manager.py:1320: UserWarning: findfont: Font family ['sans-serif'] not found. Falling back to Helvetica\n",
      "  (prop.get_family(), self.defaultFamily[fontext]))\n",
      "/usr/local/lib/python3.6/site-packages/matplotlib/font_manager.py:1330: UserWarning: findfont: Could not match :family=Helvetica:style=normal:variant=normal:weight=normal:stretch=normal:size=12.0. Returning /usr/local/lib/python2.7/site-packages/matplotlib/mpl-data/fonts/pdfcorefonts/Helvetica-Bold.afm\n",
      "  UserWarning)\n",
      "/usr/local/lib/python3.6/site-packages/matplotlib/font_manager.py:1330: UserWarning: findfont: Could not match :family=Helvetica:style=normal:variant=normal:weight=normal:stretch=normal:size=16.0. Returning /usr/local/lib/python2.7/site-packages/matplotlib/mpl-data/fonts/pdfcorefonts/Helvetica-Bold.afm\n",
      "  UserWarning)\n",
      "/usr/local/lib/python3.6/site-packages/matplotlib/font_manager.py:1330: UserWarning: findfont: Could not match :family=Helvetica:style=normal:variant=normal:weight=normal:stretch=normal:size=10.0. Returning /usr/local/lib/python2.7/site-packages/matplotlib/mpl-data/fonts/pdfcorefonts/Helvetica-Bold.afm\n",
      "  UserWarning)\n"
     ]
    },
    {
     "data": {
      "image/png": "[encoded data removed]",
      "text/plain": [
       "<matplotlib.figure.Figure at 0x10cf70358>"
      ]
     },
     "metadata": {},
     "output_type": "display_data"
    },
    {
     "data": {
      "image/png": "[encoded data removed]",
      "text/plain": [
       "<matplotlib.figure.Figure at 0x10cdcc710>"
      ]
     },
     "metadata": {},
     "output_type": "display_data"
    }
   ],
   "source": [
    "\n",
    "\n",
    "def bootstrap_variance(df,estimator,name,n_boot):\n",
    "    boot_sample=[]\n",
    "    df= df.copy()\n",
    "    for i in range(n_boot):\n",
    "        boot_df = df.loc[np.random.choice(range(n_pbdm),n_pbdm)].reset_index(True)\n",
    "        _,sd = estimator(boot_df,name)\n",
    "        boot_sample.append(sd)\n",
    "        print('%s of %s' %(i,n_boot))\n",
    "        if sum(np.isnan(boot_sample))==1:\n",
    "            break\n",
    "    sd = np.median(boot_sample)\n",
    "    conf= (np.percentile(boot_sample,2.5),np.percentile(boot_sample,97.5))\n",
    "    return sd, conf\n",
    "\n",
    "#hajek_pbdm_sd,hajek_pbdm_conf = bootstrap_variance(df_pbdm,hajek_ate_var_null,'PBDM',1000)\n",
    "#hajek_bdm_sd,hajek_bdm_conf = bootstrap_variance(df_bdm,hajek_ate_var_null,'BDM',1000)\n",
    "\n",
    "\n",
    "####### Hajek estimator variance cost evolution\n",
    "\n",
    "\n",
    "def evolution(df,estimator,name,color,nboot=200):\n",
    "    cost_list = []\n",
    "    sd_list = []\n",
    "    conf_list=[]\n",
    "    df  = df.copy()\n",
    "    n = df.shape[0]\n",
    "    max_budget = int(np.ceil(max(cost_bdm,cost_pbdm)))\n",
    "    for budget in range(2000,max_budget,300):\n",
    "        boot_sample = []\n",
    "        for _ in range(nboot):\n",
    "            boot_df = df.copy()\n",
    "            boot_df = boot_df.loc[np.random.choice(range(n),n)].reset_index(drop=True)\n",
    "            cost  = 500\n",
    "            i=1\n",
    "            while(cost<budget and i<n ):\n",
    "                i += 1\n",
    "                df_aux = boot_df.loc[:i]\n",
    "                cost = sum((df_aux['nCorrect']-(20-df_aux['nCorrect']))*10-df_aux['pbdmOffer']*df_aux['treated'])\n",
    "            _,sd = estimator(df_aux,name)\n",
    "            boot_sample.append(sd)\n",
    "            if np.sum(np.isnan(boot_sample))==1:\n",
    "                break\n",
    "\n",
    "        sd = np.nanmean(boot_sample)\n",
    "        conf = (np.nanpercentile(boot_sample,2.5),np.nanpercentile(boot_sample,97.5))\n",
    "        cost_list.append(budget)\n",
    "        sd_list.append(sd)\n",
    "        conf_list.append(conf)\n",
    "    m = len(sd_list)\n",
    "    plt.plot(np.array(cost_list),sd_list,label=name,color=color)\n",
    "    plt.errorbar(x=np.array(cost_list), y=sd_list,fmt='s',capsize=5,yerr=[[-conf_list[i][0] + sd_list[i] for i in range(m)],\n",
    "                                                                          [conf_list[i][1] - sd_list[i] for i in range(m)]],color=color)\n",
    "\n",
    "    return(cost_list,sd_list,conf_list)\n",
    "\n",
    "\n",
    "\n",
    "\n",
    "f_budget =plt.figure()\n",
    "evolution(df_bdm,hajek_ate_var_null,\"Hajek BDM\",\"red\")\n",
    "evolution(df_pbdm,hajek_ate_var_null,\"Hajek PBDM\",\"blue\")\n",
    "plt.ylim([0,9])\n",
    "plt.legend()\n",
    "plt.title(\"Standard error estimator as a function of budget\",fontsize=16)\n",
    "plt.xlabel(\"Budget\",fontsize=16)\n",
    "plt.ylabel(\"Standard error\",fontsize=16)\n",
    "ax = plt.gca()\n",
    "ax.tick_params(axis='x', which='major', labelsize=12)\n",
    "ax.tick_params(axis='y', which='major', labelsize=12)\n",
    "f_budget.savefig(\"sd_budget_hajek.pdf\", bbox_inches='tight')\n",
    "\n",
    "f=plt.figure()\n",
    "cost_list,sd_list,conf_list=evolution(df_pbdm,hajek_quotient_null_ate_var,\"Quotient SE(PBDM)/SE(BDM)\",\"black\")\n",
    "plt.legend()\n",
    "plt.ylim([0,1.5])\n",
    "plt.axhline(y=1,linestyle=\"--\")\n",
    "plt.title(\"Quotient of the SE Estimators\",fontsize=16)\n",
    "plt.xlabel(\"Budget\",fontsize=16)\n",
    "plt.ylabel(\"Quotient\",fontsize=16)\n",
    "ax.tick_params(axis='x', which='major', labelsize=12)\n",
    "ax.tick_params(axis='y', which='major', labelsize=12)\n",
    "f.savefig(\"quotient_of_estimators.pdf\", bbox_inches='tight')\n",
    "\n"
   ]
  },
  {
   "cell_type": "code",
   "execution_count": 23,
   "metadata": {},
   "outputs": [
    {
     "data": {
      "image/png": "[encoded data removed]",
      "text/plain": [
       "<matplotlib.figure.Figure at 0x10cf70358>"
      ]
     },
     "execution_count": 23,
     "metadata": {},
     "output_type": "execute_result"
    }
   ],
   "source": [
    "ax = f_budget.get_axes()\n",
    "ax[0].set_ylim(0,9)\n",
    "f_budget"
   ]
  },
  {
   "cell_type": "markdown",
   "metadata": {},
   "source": [
    "<h4>Demand Estimation </h4>"
   ]
  },
  {
   "cell_type": "code",
   "execution_count": 24,
   "metadata": {},
   "outputs": [],
   "source": [
    "import seaborn as sns; sns.set(color_codes=True)\n",
    "def estimate_demand(df,name,color):\n",
    "    \n",
    "    n = df.shape[0]\n",
    "    df_demands=pd.DataFrame()\n",
    "    for i in range(1000):\n",
    "        demand = []\n",
    "        df_boot = df.loc[np.random.choice(range(n),replace=True,size=n)]\n",
    "        for price in range(200):\n",
    "            demand.append(np.sum(df_boot['pbdmBid']>=price)/float(n))\n",
    "        df_demands[\"time_\"+str(i)] = demand\n",
    "    return df_demands\n",
    "    #ax = sns.tsplot(data=np.array(df_demands))\n",
    "    #plt.plot(list(range(200)),demand,label=name,color=color)\n",
    "    #plt.yticks([0,0.25,0.5,0.75,1],[\"0%\",\"25%\",\"50%\",\"75%\",\"100%\"])\n",
    "\n",
    "\n",
    "df_demands_bdm=estimate_demand(df_bdm,\"BDM\",\"Red\")\n",
    "df_demands_pbdm=estimate_demand(df_pbdm,\"PBDM\",\"Blue\")\n"
   ]
  },
  {
   "cell_type": "code",
   "execution_count": 25,
   "metadata": {
    "scrolled": true
   },
   "outputs": [
    {
     "name": "stderr",
     "output_type": "stream",
     "text": [
      "/usr/local/lib/python3.6/site-packages/seaborn/timeseries.py:183: UserWarning: The tsplot function is deprecated and will be removed or replaced (in a substantially altered version) in a future release.\n",
      "  warnings.warn(msg, UserWarning)\n",
      "/usr/local/lib/python3.6/site-packages/matplotlib/font_manager.py:1320: UserWarning: findfont: Font family ['sans-serif'] not found. Falling back to Helvetica\n",
      "  (prop.get_family(), self.defaultFamily[fontext]))\n",
      "/usr/local/lib/python3.6/site-packages/matplotlib/font_manager.py:1330: UserWarning: findfont: Could not match :family=Helvetica:style=normal:variant=normal:weight=normal:stretch=normal:size=12.0. Returning /usr/local/lib/python2.7/site-packages/matplotlib/mpl-data/fonts/pdfcorefonts/Helvetica-Bold.afm\n",
      "  UserWarning)\n",
      "/usr/local/lib/python3.6/site-packages/matplotlib/font_manager.py:1330: UserWarning: findfont: Could not match :family=Helvetica:style=normal:variant=normal:weight=normal:stretch=normal:size=16.0. Returning /usr/local/lib/python2.7/site-packages/matplotlib/mpl-data/fonts/pdfcorefonts/Helvetica-Bold.afm\n",
      "  UserWarning)\n",
      "/usr/local/lib/python3.6/site-packages/matplotlib/font_manager.py:1330: UserWarning: findfont: Could not match :family=Helvetica:style=normal:variant=normal:weight=normal:stretch=normal:size=10.0. Returning /usr/local/lib/python2.7/site-packages/matplotlib/mpl-data/fonts/pdfcorefonts/Helvetica-Bold.afm\n",
      "  UserWarning)\n"
     ]
    },
    {
     "data": {
      "image/png": "[encoded data removed]",
      "text/plain": [
       "<matplotlib.figure.Figure at 0x10cf822b0>"
      ]
     },
     "metadata": {},
     "output_type": "display_data"
    }
   ],
   "source": [
    "df_demands_bdm['id'] = df_demands_bdm.index\n",
    "df_demands_bdm_melt=df_demands_bdm.melt(id_vars=['id'])\n",
    "df_demands_bdm_melt['Mechanism']=\"BDM\"\n",
    "\n",
    "df_demands_pbdm['id'] = df_demands_pbdm.index\n",
    "df_demands_pbdm_melt=df_demands_pbdm.melt(id_vars=['id'])\n",
    "df_demands_pbdm_melt['Mechanism']=\"PBDM\"\n",
    "df_demands = df_demands_bdm_melt.append(df_demands_pbdm_melt)\n",
    "df_demands['time'] = df_demands['variable'].apply(lambda x: float(x[5:]))\n",
    "f,ax=plt.subplots(1,1)\n",
    "sns.tsplot(data=df_demands,ci=\"sd\",condition=\"Mechanism\",time=\"id\",value=\"value\",unit=\"time\",color={\"BDM\":\"red\",\"PBDM\":\"blue\"})\n",
    "plt.legend()\n",
    "plt.ylabel('Percentage of users',fontsize=16)\n",
    "plt.xlabel('Price',fontsize=16)\n",
    "plt.title(\"Inverse demand\",fontsize=16)\n",
    "ax.tick_params(axis='x', which='major', labelsize=12)\n",
    "ax.tick_params(axis='y', which='major', labelsize=12)\n",
    "ax.set_yticklabels(['{:2d}%'.format(x) for x in np.arange(-20,120,20)])\n",
    "f.savefig(\"demand.pdf\", bbox_inches='tight')\n"
   ]
  },
  {
   "cell_type": "code",
   "execution_count": 26,
   "metadata": {},
   "outputs": [],
   "source": [
    "def cate(df,name,degree):    \n",
    "    \n",
    "    # Heterogeneous treatment effect\n",
    "    z_critical = stats.norm.ppf(q = 0.975)\n",
    "    step_size  = 20\n",
    "    outcome_list = []\n",
    "    sd_list=[]\n",
    "    xnew=[]\n",
    "\n",
    "    for i in range(0,200,10):\n",
    "        try:\n",
    "            df_spline = df.copy()[df['pbdmBid'].apply(lambda x: (i-step_size)<=x and x<=(i+step_size))]\n",
    "            mu,sigma = hajek_ate_var_null(df_spline,name)\n",
    "            outcome_list.append(mu)\n",
    "            sd_list.append(sigma)\n",
    "            xnew.append(i)\n",
    "        except:\n",
    "            pass\n",
    "\n",
    "    \n",
    "    outcome_list = np.array(outcome_list)\n",
    "    sd_list=np.array(sd_list)\n",
    "    n = len(outcome_list)\n",
    "    outcome_smooth = BSpline(xnew,outcome_list,degree)\n",
    "    ub = (outcome_list+z_critical*sd_list)\n",
    "    lb = (outcome_list-z_critical*sd_list)\n",
    "    ub_smooth = BSpline(xnew,ub,degree)\n",
    "    lb_smooth = BSpline(xnew,lb,degree)\n",
    "\n",
    "    f = plt.figure()\n",
    "    plt.plot(range(200),outcome_smooth(range(200)),color=\"blue\",label=\"E[Y(1)-Y(0)|W]\")\n",
    "    plt.fill_between(range(200), lb_smooth(range(200)), ub_smooth(range(200)),alpha=0.3)\n",
    "    plt.plot(range(200),lb_smooth(range(200)),linestyle=\"--\",color=\"blue\")\n",
    "    plt.plot(range(200),ub_smooth(range(200)),linestyle=\"--\",color=\"blue\",label=\"CI 95%\")\n",
    "    plt.ylim((-1,8))\n",
    "    plt.axhline(y=hajek_pbdm,linewidth=2, color='r',linestyle=\"--\",label=\"Hajek ATE\")\n",
    "    plt.legend()\n",
    "    plt.axhline(y=0,linewidth=2,linestyle=\"--\",color=\"black\")\n",
    "    plt.ylim(-8,8)\n",
    "    plt.title(\"Conditional Average Treatment Effect\")\n",
    "    plt.xlabel(\"Willingness to Pay\")\n",
    "    plt.ylabel(\"CATE\")\n",
    "    f.savefig(\"CATE_pbdm.pdf\", bbox_inches='tight')\n",
    "    \n",
    "\n",
    "    return outcome_smooth"
   ]
  },
  {
   "cell_type": "code",
   "execution_count": 27,
   "metadata": {},
   "outputs": [
    {
     "name": "stderr",
     "output_type": "stream",
     "text": [
      "/usr/local/lib/python3.6/site-packages/ipykernel_launcher.py:14: RuntimeWarning: invalid value encountered in double_scalars\n",
      "  \n",
      "/usr/local/lib/python3.6/site-packages/matplotlib/font_manager.py:1320: UserWarning: findfont: Font family ['sans-serif'] not found. Falling back to Helvetica\n",
      "  (prop.get_family(), self.defaultFamily[fontext]))\n",
      "/usr/local/lib/python3.6/site-packages/matplotlib/font_manager.py:1330: UserWarning: findfont: Could not match :family=Helvetica:style=normal:variant=normal:weight=normal:stretch=normal:size=10.0. Returning /usr/local/lib/python2.7/site-packages/matplotlib/mpl-data/fonts/pdfcorefonts/Helvetica-Bold.afm\n",
      "  UserWarning)\n",
      "/usr/local/lib/python3.6/site-packages/matplotlib/font_manager.py:1330: UserWarning: findfont: Could not match :family=Helvetica:style=normal:variant=normal:weight=normal:stretch=normal:size=11.0. Returning /usr/local/lib/python2.7/site-packages/matplotlib/mpl-data/fonts/pdfcorefonts/Helvetica-Bold.afm\n",
      "  UserWarning)\n",
      "/usr/local/lib/python3.6/site-packages/matplotlib/font_manager.py:1330: UserWarning: findfont: Could not match :family=Helvetica:style=normal:variant=normal:weight=normal:stretch=normal:size=12.0. Returning /usr/local/lib/python2.7/site-packages/matplotlib/mpl-data/fonts/pdfcorefonts/Helvetica-Bold.afm\n",
      "  UserWarning)\n"
     ]
    },
    {
     "data": {
      "text/plain": [
       "<scipy.interpolate._bsplines.BSpline at 0x10d434198>"
      ]
     },
     "execution_count": 27,
     "metadata": {},
     "output_type": "execute_result"
    },
    {
     "data": {
      "image/png": "[encoded data removed]",
      "text/plain": [
       "<matplotlib.figure.Figure at 0x10cdcca20>"
      ]
     },
     "metadata": {},
     "output_type": "display_data"
    }
   ],
   "source": [
    "cate(df_pbdm,\"PBDM\",2)\n",
    "\n"
   ]
  },
  {
   "cell_type": "code",
   "execution_count": null,
   "metadata": {},
   "outputs": [],
   "source": []
  },
  {
   "cell_type": "code",
   "execution_count": null,
   "metadata": {},
   "outputs": [],
   "source": []
  },
  {
   "cell_type": "code",
   "execution_count": null,
   "metadata": {},
   "outputs": [],
   "source": []
  },
  {
   "cell_type": "code",
   "execution_count": null,
   "metadata": {},
   "outputs": [],
   "source": []
  }
 ],
 "metadata": {
  "kernelspec": {
   "display_name": "Python 3",
   "language": "python",
   "name": "python3"
  },
  "language_info": {
   "codemirror_mode": {
    "name": "ipython",
    "version": 3
   },
   "file_extension": ".py",
   "mimetype": "text/x-python",
   "name": "python",
   "nbconvert_exporter": "python",
   "pygments_lexer": "ipython3",
   "version": "3.6.1"
  }
 },
 "nbformat": 4,
 "nbformat_minor": 2
}
